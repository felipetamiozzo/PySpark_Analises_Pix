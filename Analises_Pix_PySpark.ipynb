{
 "cells": [
  {
   "cell_type": "markdown",
   "metadata": {
    "id": "ofKTUnKjtFor"
   },
   "source": [
    "# Iniciando Sessão Spark"
   ]
  },
  {
   "cell_type": "code",
   "execution_count": 5,
   "metadata": {
    "id": "vcytxNzMzrnX"
   },
   "outputs": [],
   "source": [
    "from pyspark.sql import SparkSession\n",
    "from pyspark import SparkContext, SparkConf\n",
    "\n",
    "# ConfigureSparkUI\n",
    "conf = SparkConf().set('spark.ui.port', '4050')\n",
    "sc = SparkContext(conf=conf)\n",
    "sc.stop()\n",
    "\n",
    "spark = (\n",
    "    SparkSession.builder                  # Método da classe que constrói a sessão spark\n",
    "      .appName(\"Exercicios Spark\")  # Nome do App Spark\n",
    "      .getOrCreate())                     # Verifica se há uma sessão ativa, e se não há, cria uma nova sessão"
   ]
  },
  {
   "cell_type": "markdown",
   "metadata": {},
   "source": [
    "# Definindo DataFrame"
   ]
  },
  {
   "cell_type": "code",
   "execution_count": 6,
   "metadata": {
    "id": "t9wLbayAOMH3"
   },
   "outputs": [],
   "source": [
    "#Importando bibliotecas\n",
    "from pyspark.sql.types import StructType, StructField, IntegerType, DoubleType, StringType, TimestampType\n",
    "\n",
    "\n",
    "#Definindo os tipos de dados manualmente\n",
    "schema_base_pix = StructType([\n",
    "    StructField('id', IntegerType()),\n",
    "    StructField('valor', DoubleType()),\n",
    "    StructField('parte_debitada_nome', StringType()),\n",
    "    StructField('parte_debitada_conta', StringType()),\n",
    "    StructField('parte_debitada_banco', StringType()),\n",
    "    StructField('parte_creditada_nome', StringType()),\n",
    "    StructField('parte_creditada_conta', StringType()),\n",
    "    StructField('parte_creditada_banco', StringType()),\n",
    "    StructField('chave_pix_tipo', StringType()),\n",
    "    StructField('chave_pix_valor', StringType()),\n",
    "    StructField('data_transacao', TimestampType())\n",
    "])\n",
    "\n",
    "#Importando base de dados\n",
    "caminho_csv = \"./base_de_dados.csv\"\n",
    "\n",
    "#Definindo dataframe com o schema definido acima\n",
    "df = spark.read.csv(\n",
    "      path=caminho_csv,\n",
    "      header=True,\n",
    "      sep=\";\",\n",
    "      schema=schema_base_pix,\n",
    "      timestampFormat=\"dd/MM/yyyy HH:mm\"  #formato de horas em dia meses e anos, horas e min.\n",
    ")"
   ]
  },
  {
   "cell_type": "markdown",
   "metadata": {},
   "source": [
    "# Análises"
   ]
  },
  {
   "cell_type": "code",
   "execution_count": 7,
   "metadata": {
    "colab": {
     "base_uri": "https://localhost:8080/"
    },
    "id": "yvpdP0FrjIUM",
    "outputId": "be70bc74-4e1b-42cf-f87b-3331945c9361"
   },
   "outputs": [
    {
     "name": "stdout",
     "output_type": "stream",
     "text": [
      "+---+--------+--------------------+--------------------+--------------------+--------------------+---------------------+---------------------+--------------+---------------+-------------------+\n",
      "| id|   valor| parte_debitada_nome|parte_debitada_conta|parte_debitada_banco|parte_creditada_nome|parte_creditada_conta|parte_creditada_banco|chave_pix_tipo|chave_pix_valor|     data_transacao|\n",
      "+---+--------+--------------------+--------------------+--------------------+--------------------+---------------------+---------------------+--------------+---------------+-------------------+\n",
      "|  1|    9.93|Dra. Ana Carolina...|            79470453|              Nubank|       Maysa da Cruz|             67162333|                 Itau|           cpf|     8439752610|2022-02-18 13:28:00|\n",
      "|  2|   15.38|        Ana Caldeira|            19689668|                Itau|        Evelyn Sales|             60005091|             Bradesco|           cpf|    27145380617|2022-04-08 01:47:00|\n",
      "|  3|   57.58|    Arthur Goncalves|            18856899|            Bradesco|          Maria Melo|             13496303|                  BTG|           cpf|    16452937006|2022-07-14 03:18:00|\n",
      "|  4|53705.13|  Ana Julia Caldeira|            22834741|                Itau|   Ana Livia Almeida|             44695116|               Nubank|           cpf|    26590384142|2022-01-15 18:06:00|\n",
      "|  5|25299.69|  Srta. Nicole Pinto|             3715882|              Nubank|Srta. Ana Laura d...|             21409465|               Nubank|           cpf|    73486105280|2022-05-13 11:04:00|\n",
      "|  6| 7165.06|   Gabriela Ferreira|             2243037|              Nubank|       Larissa Souza|             10689552|                 Itau|           cpf|    96845371237|2022-09-11 13:38:00|\n",
      "|  7|    6.16|    Heloisa da Rocha|            59778949|                 BTG|Dra. Vitoria Silv...|             56583792|               Nubank|           cpf|    89064175357|2021-12-10 12:37:00|\n",
      "|  8|  136.36|Srta. Isadora Cor...|            77102442|              Nubank|  Francisco da Costa|             96088386|               Nubank|           cpf|    85907632429|2021-12-30 23:18:00|\n",
      "|  9|  574.39|   Dr. Lucas da Cruz|            38501170|                 BTG|       Calebe da Luz|             19365554|             Bradesco|           cpf|    64720189520|2021-06-21 07:20:00|\n",
      "| 10|   42.88|     Mirella Martins|            29535709|            Bradesco|        Danilo Lopes|             60064650|                 Itau|           cpf|    87014935232|2022-09-21 17:19:00|\n",
      "| 11|33629.97|Sr. Vitor Gabriel...|            67010663|                 BTG|Sra. Lavinia Cald...|             48145941|               Nubank|           cpf|    63542098124|2022-09-12 00:29:00|\n",
      "| 12| 4374.56|      Nathan Peixoto|            22975623|              Nubank|        Diogo da Luz|             30302218|             Bradesco|           cpf|    72908154323|2022-08-07 17:01:00|\n",
      "| 13|  507.18|       Miguel Araujo|            75113657|              Nubank|Marcos Vinicius G...|             67418115|                 Itau|           cpf|    84763129031|2021-03-07 12:34:00|\n",
      "| 14|67758.87|     Juliana Correia|             4495167|                Itau|    Davi Lucas Porto|             94395923|                  BTG|           cpf|    97804215649|2021-03-24 22:58:00|\n",
      "| 15|  815.53|     Ana Laura Souza|            79650252|                Itau|        Isabel Costa|             28762988|                  BTG|           cpf|    51824039689|2022-02-21 11:25:00|\n",
      "| 16|    2.73|           Levi Lima|            73815441|                 BTG|Dra. Maria Luiza ...|             96594203|             Bradesco|           cpf|    94516738066|2021-07-20 09:17:00|\n",
      "| 17|    0.54|        Otavio Cunha|            85583961|            Bradesco|       Elisa Moreira|             97003354|             Bradesco|           cpf|    15248769094|2022-02-16 10:16:00|\n",
      "| 18|49836.72|Ana Carolina Oliv...|            80200942|                Itau|    Stella Fernandes|             31579145|                  BTG|           cpf|    47609381250|2022-07-18 22:46:00|\n",
      "| 19|    9.68|        Levi Martins|            12349481|                Itau|Joao Guilherme Me...|             31102492|                  BTG|       celular|    11916824404|2022-02-26 15:05:00|\n",
      "| 20| 9837.22|          Noah Cunha|            84622162|            Bradesco|         Juan Mendes|             97805965|             Bradesco|       celular|    11944547225|2021-06-22 05:39:00|\n",
      "+---+--------+--------------------+--------------------+--------------------+--------------------+---------------------+---------------------+--------------+---------------+-------------------+\n",
      "only showing top 20 rows\n",
      "\n"
     ]
    }
   ],
   "source": [
    "#Show dataframe\n",
    "df.show()"
   ]
  },
  {
   "cell_type": "code",
   "execution_count": 8,
   "metadata": {},
   "outputs": [
    {
     "name": "stdout",
     "output_type": "stream",
     "text": [
      "root\n",
      " |-- id: integer (nullable = true)\n",
      " |-- valor: double (nullable = true)\n",
      " |-- parte_debitada_nome: string (nullable = true)\n",
      " |-- parte_debitada_conta: string (nullable = true)\n",
      " |-- parte_debitada_banco: string (nullable = true)\n",
      " |-- parte_creditada_nome: string (nullable = true)\n",
      " |-- parte_creditada_conta: string (nullable = true)\n",
      " |-- parte_creditada_banco: string (nullable = true)\n",
      " |-- chave_pix_tipo: string (nullable = true)\n",
      " |-- chave_pix_valor: string (nullable = true)\n",
      " |-- data_transacao: timestamp (nullable = true)\n",
      "\n"
     ]
    }
   ],
   "source": [
    "#Verificando tipos dos dados\n",
    "df.printSchema()"
   ]
  },
  {
   "cell_type": "code",
   "execution_count": 9,
   "metadata": {},
   "outputs": [
    {
     "name": "stdout",
     "output_type": "stream",
     "text": [
      "+-------+------------------+------------------+-------------------+--------------------+--------------------+--------------------+---------------------+---------------------+--------------+--------------------+\n",
      "|summary|                id|             valor|parte_debitada_nome|parte_debitada_conta|parte_debitada_banco|parte_creditada_nome|parte_creditada_conta|parte_creditada_banco|chave_pix_tipo|     chave_pix_valor|\n",
      "+-------+------------------+------------------+-------------------+--------------------+--------------------+--------------------+---------------------+---------------------+--------------+--------------------+\n",
      "|  count|               100|               100|                100|                 100|                 100|                 100|                  100|                  100|           100|                 100|\n",
      "|   mean|              50.5|13663.011899999998|               NULL|        4.78019628E7|                NULL|                NULL|        5.107910677E7|                 NULL|          NULL|5.004246533667605...|\n",
      "| stddev|29.011491975882016|25715.376055332952|               NULL|2.8752540692845434E7|                NULL|                NULL| 3.1057321908236194E7|                 NULL|          NULL|2.950502645111022E10|\n",
      "|    min|                 1|              0.03|        Agatha Lima|            10469399|                 BTG|    Alexandre Farias|             10431480|                  BTG|       celular|         10658324780|\n",
      "|    max|               100|          95977.62|       Yasmin Rocha|            95439137|              Nubank|   Vitor Hugo Aragao|              9994311|               Nubank|         email|vitoria.da.paz@ho...|\n",
      "+-------+------------------+------------------+-------------------+--------------------+--------------------+--------------------+---------------------+---------------------+--------------+--------------------+\n",
      "\n"
     ]
    }
   ],
   "source": [
    "#Quantidade total de transações\n",
    "df.describe().show()"
   ]
  },
  {
   "cell_type": "code",
   "execution_count": 10,
   "metadata": {},
   "outputs": [
    {
     "name": "stdout",
     "output_type": "stream",
     "text": [
      "+---+--------+--------------------+--------------------+--------------------+--------------------+---------------------+---------------------+--------------+---------------+-------------------+\n",
      "| id|   valor| parte_debitada_nome|parte_debitada_conta|parte_debitada_banco|parte_creditada_nome|parte_creditada_conta|parte_creditada_banco|chave_pix_tipo|chave_pix_valor|     data_transacao|\n",
      "+---+--------+--------------------+--------------------+--------------------+--------------------+---------------------+---------------------+--------------+---------------+-------------------+\n",
      "|  1|    9.93|Dra. Ana Carolina...|            79470453|              Nubank|       Maysa da Cruz|             67162333|                 Itau|           cpf|     8439752610|2022-02-18 13:28:00|\n",
      "|  2|   15.38|        Ana Caldeira|            19689668|                Itau|        Evelyn Sales|             60005091|             Bradesco|           cpf|    27145380617|2022-04-08 01:47:00|\n",
      "|  3|   57.58|    Arthur Goncalves|            18856899|            Bradesco|          Maria Melo|             13496303|                  BTG|           cpf|    16452937006|2022-07-14 03:18:00|\n",
      "|  4|53705.13|  Ana Julia Caldeira|            22834741|                Itau|   Ana Livia Almeida|             44695116|               Nubank|           cpf|    26590384142|2022-01-15 18:06:00|\n",
      "|  5|25299.69|  Srta. Nicole Pinto|             3715882|              Nubank|Srta. Ana Laura d...|             21409465|               Nubank|           cpf|    73486105280|2022-05-13 11:04:00|\n",
      "|  6| 7165.06|   Gabriela Ferreira|             2243037|              Nubank|       Larissa Souza|             10689552|                 Itau|           cpf|    96845371237|2022-09-11 13:38:00|\n",
      "|  7|    6.16|    Heloisa da Rocha|            59778949|                 BTG|Dra. Vitoria Silv...|             56583792|               Nubank|           cpf|    89064175357|2021-12-10 12:37:00|\n",
      "|  8|  136.36|Srta. Isadora Cor...|            77102442|              Nubank|  Francisco da Costa|             96088386|               Nubank|           cpf|    85907632429|2021-12-30 23:18:00|\n",
      "|  9|  574.39|   Dr. Lucas da Cruz|            38501170|                 BTG|       Calebe da Luz|             19365554|             Bradesco|           cpf|    64720189520|2021-06-21 07:20:00|\n",
      "| 10|   42.88|     Mirella Martins|            29535709|            Bradesco|        Danilo Lopes|             60064650|                 Itau|           cpf|    87014935232|2022-09-21 17:19:00|\n",
      "| 11|33629.97|Sr. Vitor Gabriel...|            67010663|                 BTG|Sra. Lavinia Cald...|             48145941|               Nubank|           cpf|    63542098124|2022-09-12 00:29:00|\n",
      "| 12| 4374.56|      Nathan Peixoto|            22975623|              Nubank|        Diogo da Luz|             30302218|             Bradesco|           cpf|    72908154323|2022-08-07 17:01:00|\n",
      "| 13|  507.18|       Miguel Araujo|            75113657|              Nubank|Marcos Vinicius G...|             67418115|                 Itau|           cpf|    84763129031|2021-03-07 12:34:00|\n",
      "| 14|67758.87|     Juliana Correia|             4495167|                Itau|    Davi Lucas Porto|             94395923|                  BTG|           cpf|    97804215649|2021-03-24 22:58:00|\n",
      "| 15|  815.53|     Ana Laura Souza|            79650252|                Itau|        Isabel Costa|             28762988|                  BTG|           cpf|    51824039689|2022-02-21 11:25:00|\n",
      "| 16|    2.73|           Levi Lima|            73815441|                 BTG|Dra. Maria Luiza ...|             96594203|             Bradesco|           cpf|    94516738066|2021-07-20 09:17:00|\n",
      "| 17|    0.54|        Otavio Cunha|            85583961|            Bradesco|       Elisa Moreira|             97003354|             Bradesco|           cpf|    15248769094|2022-02-16 10:16:00|\n",
      "| 18|49836.72|Ana Carolina Oliv...|            80200942|                Itau|    Stella Fernandes|             31579145|                  BTG|           cpf|    47609381250|2022-07-18 22:46:00|\n",
      "| 19|    9.68|        Levi Martins|            12349481|                Itau|Joao Guilherme Me...|             31102492|                  BTG|       celular|    11916824404|2022-02-26 15:05:00|\n",
      "| 20| 9837.22|          Noah Cunha|            84622162|            Bradesco|         Juan Mendes|             97805965|             Bradesco|       celular|    11944547225|2021-06-22 05:39:00|\n",
      "+---+--------+--------------------+--------------------+--------------------+--------------------+---------------------+---------------------+--------------+---------------+-------------------+\n",
      "only showing top 20 rows\n",
      "\n"
     ]
    }
   ],
   "source": [
    "df.show()"
   ]
  },
  {
   "cell_type": "code",
   "execution_count": 11,
   "metadata": {},
   "outputs": [
    {
     "name": "stdout",
     "output_type": "stream",
     "text": [
      "+----+------------------+\n",
      "|year|        sum(valor)|\n",
      "+----+------------------+\n",
      "|2022|517980.58999999973|\n",
      "|2021| 848320.6000000001|\n",
      "+----+------------------+\n",
      "\n"
     ]
    }
   ],
   "source": [
    "#Qntd transações totais em valor/ano\n",
    "\n",
    "from pyspark.sql.functions import col, sum, year, month, dayofmonth, dayofyear\n",
    "\n",
    "df.withColumn('year',year (col('data_transacao'))).groupby('year').sum('valor').show()\n",
    "\n"
   ]
  },
  {
   "cell_type": "code",
   "execution_count": 12,
   "metadata": {},
   "outputs": [
    {
     "name": "stdout",
     "output_type": "stream",
     "text": [
      "+----------+\n",
      "|sum(valor)|\n",
      "+----------+\n",
      "| 225322.49|\n",
      "+----------+\n",
      "\n"
     ]
    }
   ],
   "source": [
    "#Qntd valor Nubank \n",
    "from pyspark.sql.functions import sum as _sum\n",
    "\n",
    "df.filter(col('parte_debitada_banco') == 'Nubank').select(_sum('valor')).show()\n",
    "    "
   ]
  },
  {
   "cell_type": "code",
   "execution_count": 13,
   "metadata": {},
   "outputs": [
    {
     "name": "stdout",
     "output_type": "stream",
     "text": [
      "+--------------+-----+\n",
      "|chave_pix_tipo|count|\n",
      "+--------------+-----+\n",
      "|       celular|   22|\n",
      "|         email|   29|\n",
      "|           cpf|   49|\n",
      "+--------------+-----+\n",
      "\n"
     ]
    }
   ],
   "source": [
    "#Qntd de transações por tipo de chave \n",
    "df.groupby('chave_pix_tipo').count().show()"
   ]
  },
  {
   "cell_type": "code",
   "execution_count": 14,
   "metadata": {},
   "outputs": [
    {
     "name": "stdout",
     "output_type": "stream",
     "text": [
      "+------------------+----------+----------+\n",
      "|        avg(valor)|max(valor)|min(valor)|\n",
      "+------------------+----------+----------+\n",
      "|13663.011899999998|  95977.62|      0.03|\n",
      "+------------------+----------+----------+\n",
      "\n"
     ]
    }
   ],
   "source": [
    "#Média, min e max \n",
    "from pyspark.sql import functions as f \n",
    "\n",
    "df.select(\n",
    "    f.mean(col('valor')),\n",
    "    f.max(col('valor')),\n",
    "    f.min(col('valor'))\n",
    ").show()"
   ]
  },
  {
   "cell_type": "code",
   "execution_count": null,
   "metadata": {},
   "outputs": [
    {
     "name": "stdout",
     "output_type": "stream",
     "text": [
      "+---+--------+--------------------+--------------------+--------------------+--------------------+---------------------+---------------------+--------------+--------------------+-------------------+\n",
      "| id|   valor| parte_debitada_nome|parte_debitada_conta|parte_debitada_banco|parte_creditada_nome|parte_creditada_conta|parte_creditada_banco|chave_pix_tipo|     chave_pix_valor|     data_transacao|\n",
      "+---+--------+--------------------+--------------------+--------------------+--------------------+---------------------+---------------------+--------------+--------------------+-------------------+\n",
      "| 54|95977.62|   Henrique Ferreira|             6269315|              Nubank|Sra. Maria Luiza ...|             68542779|                  BTG|           cpf|         14957860211|2021-09-22 10:17:00|\n",
      "| 86|94736.79|Joao Vitor Cavalc...|            52265189|                 BTG|        Stella Gomes|             93858790|               Nubank|         email|stella.gomes@yaho...|2021-01-26 00:04:00|\n",
      "| 97|94586.45|      Henrique Pinto|            69273106|            Bradesco|        Heitor Silva|             81541742|                 Itau|         email|heitor.silva@yaho...|2021-09-06 10:57:00|\n",
      "| 78|81977.98|      Giovanna Costa|            37809286|                Itau|Joao Guilherme Ramos|             75756231|             Bradesco|         email|joao.guilherme.ra...|2021-02-16 18:57:00|\n",
      "| 71|80083.34|      Eduarda Campos|            12495530|                 BTG|       Olivia da Luz|             30630489|                  BTG|           cpf|         42617803996|2021-11-16 10:58:00|\n",
      "+---+--------+--------------------+--------------------+--------------------+--------------------+---------------------+---------------------+--------------+--------------------+-------------------+\n",
      "only showing top 5 rows\n",
      "\n"
     ]
    }
   ],
   "source": [
    "#Maiores transações \n",
    "df.orderBy('valor', ascending = False).show(5)"
   ]
  },
  {
   "cell_type": "code",
   "execution_count": 16,
   "metadata": {},
   "outputs": [
    {
     "name": "stdout",
     "output_type": "stream",
     "text": [
      "+---+--------+--------------------+--------------------+--------------------+--------------------+---------------------+---------------------+--------------+---------------+-------------------+\n",
      "| id|   valor| parte_debitada_nome|parte_debitada_conta|parte_debitada_banco|parte_creditada_nome|parte_creditada_conta|parte_creditada_banco|chave_pix_tipo|chave_pix_valor|     data_transacao|\n",
      "+---+--------+--------------------+--------------------+--------------------+--------------------+---------------------+---------------------+--------------+---------------+-------------------+\n",
      "|  1|    9.93|Dra. Ana Carolina...|            79470453|              Nubank|       Maysa da Cruz|             67162333|                 Itau|           cpf|     8439752610|2022-02-18 13:28:00|\n",
      "|  2|   15.38|        Ana Caldeira|            19689668|                Itau|        Evelyn Sales|             60005091|             Bradesco|           cpf|    27145380617|2022-04-08 01:47:00|\n",
      "|  3|   57.58|    Arthur Goncalves|            18856899|            Bradesco|          Maria Melo|             13496303|                  BTG|           cpf|    16452937006|2022-07-14 03:18:00|\n",
      "|  4|53705.13|  Ana Julia Caldeira|            22834741|                Itau|   Ana Livia Almeida|             44695116|               Nubank|           cpf|    26590384142|2022-01-15 18:06:00|\n",
      "|  5|25299.69|  Srta. Nicole Pinto|             3715882|              Nubank|Srta. Ana Laura d...|             21409465|               Nubank|           cpf|    73486105280|2022-05-13 11:04:00|\n",
      "|  6| 7165.06|   Gabriela Ferreira|             2243037|              Nubank|       Larissa Souza|             10689552|                 Itau|           cpf|    96845371237|2022-09-11 13:38:00|\n",
      "|  7|    6.16|    Heloisa da Rocha|            59778949|                 BTG|Dra. Vitoria Silv...|             56583792|               Nubank|           cpf|    89064175357|2021-12-10 12:37:00|\n",
      "|  8|  136.36|Srta. Isadora Cor...|            77102442|              Nubank|  Francisco da Costa|             96088386|               Nubank|           cpf|    85907632429|2021-12-30 23:18:00|\n",
      "|  9|  574.39|   Dr. Lucas da Cruz|            38501170|                 BTG|       Calebe da Luz|             19365554|             Bradesco|           cpf|    64720189520|2021-06-21 07:20:00|\n",
      "| 10|   42.88|     Mirella Martins|            29535709|            Bradesco|        Danilo Lopes|             60064650|                 Itau|           cpf|    87014935232|2022-09-21 17:19:00|\n",
      "| 11|33629.97|Sr. Vitor Gabriel...|            67010663|                 BTG|Sra. Lavinia Cald...|             48145941|               Nubank|           cpf|    63542098124|2022-09-12 00:29:00|\n",
      "| 12| 4374.56|      Nathan Peixoto|            22975623|              Nubank|        Diogo da Luz|             30302218|             Bradesco|           cpf|    72908154323|2022-08-07 17:01:00|\n",
      "| 13|  507.18|       Miguel Araujo|            75113657|              Nubank|Marcos Vinicius G...|             67418115|                 Itau|           cpf|    84763129031|2021-03-07 12:34:00|\n",
      "| 14|67758.87|     Juliana Correia|             4495167|                Itau|    Davi Lucas Porto|             94395923|                  BTG|           cpf|    97804215649|2021-03-24 22:58:00|\n",
      "| 15|  815.53|     Ana Laura Souza|            79650252|                Itau|        Isabel Costa|             28762988|                  BTG|           cpf|    51824039689|2022-02-21 11:25:00|\n",
      "| 16|    2.73|           Levi Lima|            73815441|                 BTG|Dra. Maria Luiza ...|             96594203|             Bradesco|           cpf|    94516738066|2021-07-20 09:17:00|\n",
      "| 17|    0.54|        Otavio Cunha|            85583961|            Bradesco|       Elisa Moreira|             97003354|             Bradesco|           cpf|    15248769094|2022-02-16 10:16:00|\n",
      "| 18|49836.72|Ana Carolina Oliv...|            80200942|                Itau|    Stella Fernandes|             31579145|                  BTG|           cpf|    47609381250|2022-07-18 22:46:00|\n",
      "| 19|    9.68|        Levi Martins|            12349481|                Itau|Joao Guilherme Me...|             31102492|                  BTG|       celular|    11916824404|2022-02-26 15:05:00|\n",
      "| 20| 9837.22|          Noah Cunha|            84622162|            Bradesco|         Juan Mendes|             97805965|             Bradesco|       celular|    11944547225|2021-06-22 05:39:00|\n",
      "+---+--------+--------------------+--------------------+--------------------+--------------------+---------------------+---------------------+--------------+---------------+-------------------+\n",
      "only showing top 20 rows\n",
      "\n"
     ]
    }
   ],
   "source": [
    "df.show()"
   ]
  },
  {
   "cell_type": "code",
   "execution_count": 17,
   "metadata": {},
   "outputs": [
    {
     "name": "stdout",
     "output_type": "stream",
     "text": [
      "+--------------+-----+\n",
      "|chave_pix_tipo|count|\n",
      "+--------------+-----+\n",
      "|           cpf|   14|\n",
      "|         email|   10|\n",
      "|       celular|    7|\n",
      "+--------------+-----+\n",
      "\n"
     ]
    }
   ],
   "source": [
    "#Chave mais utilizada banco BTG \n",
    "df.filter(\n",
    "    (col('parte_creditada_banco') == \"BTG\")\n",
    ").groupBy('chave_pix_tipo').count().orderBy('count', ascending=False).show()\n"
   ]
  },
  {
   "cell_type": "code",
   "execution_count": null,
   "metadata": {},
   "outputs": [
    {
     "name": "stdout",
     "output_type": "stream",
     "text": [
      "+---+--------+-------------------+-------+\n",
      "| id|   valor|     data_transacao|ano_mes|\n",
      "+---+--------+-------------------+-------+\n",
      "|  1|    9.93|2022-02-18 13:28:00|2022-02|\n",
      "|  2|   15.38|2022-04-08 01:47:00|2022-04|\n",
      "|  3|   57.58|2022-07-14 03:18:00|2022-07|\n",
      "|  4|53705.13|2022-01-15 18:06:00|2022-01|\n",
      "|  5|25299.69|2022-05-13 11:04:00|2022-05|\n",
      "|  6| 7165.06|2022-09-11 13:38:00|2022-09|\n",
      "|  7|    6.16|2021-12-10 12:37:00|2021-12|\n",
      "|  8|  136.36|2021-12-30 23:18:00|2021-12|\n",
      "|  9|  574.39|2021-06-21 07:20:00|2021-06|\n",
      "| 10|   42.88|2022-09-21 17:19:00|2022-09|\n",
      "| 11|33629.97|2022-09-12 00:29:00|2022-09|\n",
      "| 12| 4374.56|2022-08-07 17:01:00|2022-08|\n",
      "| 13|  507.18|2021-03-07 12:34:00|2021-03|\n",
      "| 14|67758.87|2021-03-24 22:58:00|2021-03|\n",
      "| 15|  815.53|2022-02-21 11:25:00|2022-02|\n",
      "| 16|    2.73|2021-07-20 09:17:00|2021-07|\n",
      "| 17|    0.54|2022-02-16 10:16:00|2022-02|\n",
      "| 18|49836.72|2022-07-18 22:46:00|2022-07|\n",
      "| 19|    9.68|2022-02-26 15:05:00|2022-02|\n",
      "| 20| 9837.22|2021-06-22 05:39:00|2021-06|\n",
      "+---+--------+-------------------+-------+\n",
      "only showing top 20 rows\n",
      "\n",
      "+---+--------+-------------------+-------+----------+\n",
      "| id|   valor|     data_transacao|ano_mes|row_number|\n",
      "+---+--------+-------------------+-------+----------+\n",
      "| 30| 3035.83|2021-01-09 02:17:00|2021-01|         1|\n",
      "| 86|94736.79|2021-01-26 00:04:00|2021-01|         2|\n",
      "| 38|   32.79|2021-02-18 04:08:00|2021-02|         1|\n",
      "|100|  705.81|2021-02-07 10:57:00|2021-02|         2|\n",
      "| 89|  958.07|2021-02-13 10:07:00|2021-02|         3|\n",
      "| 37|19799.16|2021-02-15 14:13:00|2021-02|         4|\n",
      "| 34|58083.62|2021-02-10 06:13:00|2021-02|         5|\n",
      "| 78|81977.98|2021-02-16 18:57:00|2021-02|         6|\n",
      "| 60|    0.03|2021-03-16 19:22:00|2021-03|         1|\n",
      "| 49|    0.57|2021-03-12 16:28:00|2021-03|         2|\n",
      "| 98|     6.0|2021-03-22 20:38:00|2021-03|         3|\n",
      "| 45|   69.76|2021-03-05 12:07:00|2021-03|         4|\n",
      "| 28|   89.94|2021-03-04 03:31:00|2021-03|         5|\n",
      "| 13|  507.18|2021-03-07 12:34:00|2021-03|         6|\n",
      "| 14|67758.87|2021-03-24 22:58:00|2021-03|         7|\n",
      "| 88|78347.58|2021-03-18 14:21:00|2021-03|         8|\n",
      "| 91|   10.33|2021-04-25 09:00:00|2021-04|         1|\n",
      "| 95|  202.69|2021-04-19 12:46:00|2021-04|         2|\n",
      "| 44|   459.2|2021-04-06 03:47:00|2021-04|         3|\n",
      "| 68|  611.53|2021-05-21 06:56:00|2021-05|         1|\n",
      "+---+--------+-------------------+-------+----------+\n",
      "only showing top 20 rows\n",
      "\n",
      "+---+--------+-------------------+-------+----------+\n",
      "| id|   valor|     data_transacao|ano_mes|row_number|\n",
      "+---+--------+-------------------+-------+----------+\n",
      "| 86|94736.79|2021-01-26 00:04:00|2021-01|         1|\n",
      "| 30| 3035.83|2021-01-09 02:17:00|2021-01|         2|\n",
      "| 78|81977.98|2021-02-16 18:57:00|2021-02|         1|\n",
      "| 34|58083.62|2021-02-10 06:13:00|2021-02|         2|\n",
      "| 37|19799.16|2021-02-15 14:13:00|2021-02|         3|\n",
      "| 89|  958.07|2021-02-13 10:07:00|2021-02|         4|\n",
      "|100|  705.81|2021-02-07 10:57:00|2021-02|         5|\n",
      "| 38|   32.79|2021-02-18 04:08:00|2021-02|         6|\n",
      "| 88|78347.58|2021-03-18 14:21:00|2021-03|         1|\n",
      "| 14|67758.87|2021-03-24 22:58:00|2021-03|         2|\n",
      "| 13|  507.18|2021-03-07 12:34:00|2021-03|         3|\n",
      "| 28|   89.94|2021-03-04 03:31:00|2021-03|         4|\n",
      "| 45|   69.76|2021-03-05 12:07:00|2021-03|         5|\n",
      "| 98|     6.0|2021-03-22 20:38:00|2021-03|         6|\n",
      "| 49|    0.57|2021-03-12 16:28:00|2021-03|         7|\n",
      "| 60|    0.03|2021-03-16 19:22:00|2021-03|         8|\n",
      "| 44|   459.2|2021-04-06 03:47:00|2021-04|         1|\n",
      "| 95|  202.69|2021-04-19 12:46:00|2021-04|         2|\n",
      "| 91|   10.33|2021-04-25 09:00:00|2021-04|         3|\n",
      "| 68|  611.53|2021-05-21 06:56:00|2021-05|         1|\n",
      "+---+--------+-------------------+-------+----------+\n",
      "only showing top 20 rows\n",
      "\n",
      "+---+--------+-------------------+-------+----------+\n",
      "| id|   valor|     data_transacao|ano_mes|row_number|\n",
      "+---+--------+-------------------+-------+----------+\n",
      "| 86|94736.79|2021-01-26 00:04:00|2021-01|         1|\n",
      "| 78|81977.98|2021-02-16 18:57:00|2021-02|         1|\n",
      "| 88|78347.58|2021-03-18 14:21:00|2021-03|         1|\n",
      "| 44|   459.2|2021-04-06 03:47:00|2021-04|         1|\n",
      "| 68|  611.53|2021-05-21 06:56:00|2021-05|         1|\n",
      "| 52|60139.23|2021-06-13 16:31:00|2021-06|         1|\n",
      "| 76| 9320.87|2021-07-16 00:01:00|2021-07|         1|\n",
      "| 73|  570.52|2021-08-02 18:40:00|2021-08|         1|\n",
      "| 54|95977.62|2021-09-22 10:17:00|2021-09|         1|\n",
      "| 32| 1508.83|2021-10-12 10:04:00|2021-10|         1|\n",
      "| 71|80083.34|2021-11-16 10:58:00|2021-11|         1|\n",
      "| 40|  829.87|2021-12-09 06:10:00|2021-12|         1|\n",
      "| 79| 78559.4|2022-01-09 22:31:00|2022-01|         1|\n",
      "| 35| 7944.02|2022-02-02 14:41:00|2022-02|         1|\n",
      "| 55|35409.61|2022-03-02 03:04:00|2022-03|         1|\n",
      "| 31|20875.64|2022-04-29 10:17:00|2022-04|         1|\n",
      "| 47|38219.08|2022-05-23 06:48:00|2022-05|         1|\n",
      "| 36|48714.95|2022-06-07 05:40:00|2022-06|         1|\n",
      "| 18|49836.72|2022-07-18 22:46:00|2022-07|         1|\n",
      "| 12| 4374.56|2022-08-07 17:01:00|2022-08|         1|\n",
      "+---+--------+-------------------+-------+----------+\n",
      "only showing top 20 rows\n",
      "\n"
     ]
    }
   ],
   "source": [
    "#Maiores transação por mês \n",
    "from pyspark.sql.functions import col, month, year, date_format, row_number #cria numerações de linha em janelas\n",
    "\n",
    "from pyspark.sql.window import Window  #define janelas p calculos e ordenações\n",
    "\n",
    "\n",
    "df.select(\n",
    "    'id', 'valor', 'data_transacao'\n",
    ").withColumn(\n",
    "    'ano_mes', date_format(col('data_transacao'), 'y-MM')  #criando coluna no formato ano/mês\n",
    ").show()\n",
    "\n",
    "\n",
    "window_func  = Window.partitionBy(\"ano_mes\").orderBy(\"valor\")  #particionando grupos em ano/mês ordenando pelo valor\n",
    "\n",
    "df.select(\n",
    "    'id', 'valor', 'data_transacao'\n",
    ").withColumn(\n",
    "    'ano_mes', date_format(col('data_transacao'), 'y-MM')\n",
    ").withColumn('row_number', row_number().over(window_func)).show() #numerando as linhas dentro das partções criadas\n",
    "\n",
    "window_func  = Window.partitionBy(\"ano_mes\").orderBy(col(\"valor\").desc()) #ordenando do valor maior p menor\n",
    "\n",
    "df.select(\n",
    "    'id', 'valor', 'data_transacao'\n",
    ").withColumn(\n",
    "    'ano_mes', date_format(col('data_transacao'), 'y-MM')\n",
    ").withColumn('row_number', row_number().over(window_func)).show()\n",
    "\n",
    "\n",
    "df.select(\n",
    "    'id', 'valor', 'data_transacao'\n",
    ").withColumn(\n",
    "    'ano_mes', date_format(col('data_transacao'), 'y-MM')\n",
    ").withColumn('row_number', row_number().over(window_func)).filter(col('row_number') == 1).show()  #filtrando apenas as maiores transações por mês\n",
    "\n"
   ]
  },
  {
   "cell_type": "code",
   "execution_count": 32,
   "metadata": {},
   "outputs": [
    {
     "name": "stdout",
     "output_type": "stream",
     "text": [
      "+---+--------+-----------+\n",
      "| id|   valor|valor_dolar|\n",
      "+---+--------+-----------+\n",
      "|  1|    9.93|      50.54|\n",
      "|  2|   15.38|      78.28|\n",
      "|  3|   57.58|     293.08|\n",
      "|  4|53705.13|  273359.11|\n",
      "|  5|25299.69|  128775.42|\n",
      "|  6| 7165.06|   36470.16|\n",
      "|  7|    6.16|      31.35|\n",
      "|  8|  136.36|     694.07|\n",
      "|  9|  574.39|    2923.65|\n",
      "| 10|   42.88|     218.26|\n",
      "| 11|33629.97|  171176.55|\n",
      "| 12| 4374.56|   22266.51|\n",
      "| 13|  507.18|    2581.55|\n",
      "| 14|67758.87|  344892.65|\n",
      "| 15|  815.53|    4151.05|\n",
      "| 16|    2.73|       13.9|\n",
      "| 17|    0.54|       2.75|\n",
      "| 18|49836.72|   253668.9|\n",
      "| 19|    9.68|      49.27|\n",
      "| 20| 9837.22|   50071.45|\n",
      "+---+--------+-----------+\n",
      "only showing top 20 rows\n",
      "\n"
     ]
    }
   ],
   "source": [
    "# Criando uma nova coluna que contenha o valor da transação em dólar.\n",
    "from pyspark.sql.functions import round\n",
    "\n",
    "df.withColumn('valor_dolar', round(col('valor') * 5.09, 2)).select('id', 'valor', 'valor_dolar').show()"
   ]
  }
 ],
 "metadata": {
  "colab": {
   "collapsed_sections": [
    "DoC24P6NmAuN"
   ],
   "provenance": []
  },
  "kernelspec": {
   "display_name": "Python 3",
   "name": "python3"
  },
  "language_info": {
   "codemirror_mode": {
    "name": "ipython",
    "version": 3
   },
   "file_extension": ".py",
   "mimetype": "text/x-python",
   "name": "python",
   "nbconvert_exporter": "python",
   "pygments_lexer": "ipython3",
   "version": "3.11.9"
  }
 },
 "nbformat": 4,
 "nbformat_minor": 0
}
